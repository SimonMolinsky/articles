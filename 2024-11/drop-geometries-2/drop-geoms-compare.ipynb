{
 "cells": [
  {
   "cell_type": "code",
   "execution_count": 121,
   "id": "30382134",
   "metadata": {},
   "outputs": [],
   "source": [
    "import time\n",
    "\n",
    "import geopandas as gpd\n",
    "import numpy as np\n",
    "import pandas as pd\n",
    "\n",
    "from shapely import Point, Polygon, MultiPolygon\n",
    "from tqdm import tqdm\n",
    "\n",
    "import matplotlib.pyplot as plt\n",
    "import seaborn as sns"
   ]
  },
  {
   "cell_type": "code",
   "execution_count": 3,
   "id": "d6aa17b7",
   "metadata": {},
   "outputs": [],
   "source": [
    "# Points - drop duplicates"
   ]
  },
  {
   "cell_type": "code",
   "execution_count": 6,
   "id": "2822cba5",
   "metadata": {},
   "outputs": [],
   "source": [
    "sample_points = [\n",
    "    [0, 0],\n",
    "    [0, 1],\n",
    "    [0, 3],\n",
    "    [3, 1],\n",
    "    [0, 1]\n",
    "]\n",
    "\n",
    "sample_points = [Point(sp) for sp in sample_points]"
   ]
  },
  {
   "cell_type": "code",
   "execution_count": 7,
   "id": "415d4333",
   "metadata": {},
   "outputs": [],
   "source": [
    "gs = gpd.GeoSeries(sample_points)"
   ]
  },
  {
   "cell_type": "code",
   "execution_count": 8,
   "id": "7fead470",
   "metadata": {},
   "outputs": [
    {
     "data": {
      "text/plain": [
       "0    POINT (0.00000 0.00000)\n",
       "1    POINT (0.00000 1.00000)\n",
       "2    POINT (0.00000 3.00000)\n",
       "3    POINT (3.00000 1.00000)\n",
       "4    POINT (0.00000 1.00000)\n",
       "dtype: geometry"
      ]
     },
     "execution_count": 8,
     "metadata": {},
     "output_type": "execute_result"
    }
   ],
   "source": [
    "gs"
   ]
  },
  {
   "cell_type": "code",
   "execution_count": 9,
   "id": "7abc3b28",
   "metadata": {},
   "outputs": [
    {
     "data": {
      "text/plain": [
       "0    POINT (0.00000 0.00000)\n",
       "1    POINT (0.00000 1.00000)\n",
       "2    POINT (0.00000 3.00000)\n",
       "3    POINT (3.00000 1.00000)\n",
       "dtype: geometry"
      ]
     },
     "execution_count": 9,
     "metadata": {},
     "output_type": "execute_result"
    }
   ],
   "source": [
    "gs.drop_duplicates()"
   ]
  },
  {
   "cell_type": "code",
   "execution_count": 10,
   "id": "a4c3ac10",
   "metadata": {},
   "outputs": [],
   "source": [
    "# Polygon - drop duplicates"
   ]
  },
  {
   "cell_type": "code",
   "execution_count": 11,
   "id": "e6a8f7e6",
   "metadata": {},
   "outputs": [],
   "source": [
    "polygon_a = Polygon([(0, 1), (2, 3), (2, 6), (0, 1)])\n",
    "polygon_b = Polygon([(2, 3), (2, 6), (0, 1), (2, 3)])"
   ]
  },
  {
   "cell_type": "code",
   "execution_count": 12,
   "id": "4c1672c7",
   "metadata": {},
   "outputs": [
    {
     "data": {
      "image/svg+xml": [
       "<svg xmlns=\"http://www.w3.org/2000/svg\" xmlns:xlink=\"http://www.w3.org/1999/xlink\" width=\"100.0\" height=\"100.0\" viewBox=\"-0.2 0.8 2.4000000000000004 5.4\" preserveAspectRatio=\"xMinYMin meet\"><g transform=\"matrix(1,0,0,-1,0,7.0)\"><path fill-rule=\"evenodd\" fill=\"#66cc99\" stroke=\"#555555\" stroke-width=\"0.10800000000000001\" opacity=\"0.6\" d=\"M 0.0,1.0 L 2.0,3.0 L 2.0,6.0 L 0.0,1.0 z\" /></g></svg>"
      ],
      "text/plain": [
       "<POLYGON ((0 1, 2 3, 2 6, 0 1))>"
      ]
     },
     "execution_count": 12,
     "metadata": {},
     "output_type": "execute_result"
    }
   ],
   "source": [
    "polygon_a"
   ]
  },
  {
   "cell_type": "code",
   "execution_count": 13,
   "id": "66ab68eb",
   "metadata": {},
   "outputs": [
    {
     "data": {
      "image/svg+xml": [
       "<svg xmlns=\"http://www.w3.org/2000/svg\" xmlns:xlink=\"http://www.w3.org/1999/xlink\" width=\"100.0\" height=\"100.0\" viewBox=\"-0.2 0.8 2.4000000000000004 5.4\" preserveAspectRatio=\"xMinYMin meet\"><g transform=\"matrix(1,0,0,-1,0,7.0)\"><path fill-rule=\"evenodd\" fill=\"#66cc99\" stroke=\"#555555\" stroke-width=\"0.10800000000000001\" opacity=\"0.6\" d=\"M 2.0,3.0 L 2.0,6.0 L 0.0,1.0 L 2.0,3.0 z\" /></g></svg>"
      ],
      "text/plain": [
       "<POLYGON ((2 3, 2 6, 0 1, 2 3))>"
      ]
     },
     "execution_count": 13,
     "metadata": {},
     "output_type": "execute_result"
    }
   ],
   "source": [
    "polygon_b"
   ]
  },
  {
   "cell_type": "code",
   "execution_count": 14,
   "id": "481f25ba",
   "metadata": {},
   "outputs": [],
   "source": [
    "gs = gpd.GeoSeries(data=[polygon_a, polygon_b])"
   ]
  },
  {
   "cell_type": "code",
   "execution_count": 17,
   "id": "da0529f2",
   "metadata": {},
   "outputs": [
    {
     "data": {
      "text/plain": [
       "2"
      ]
     },
     "execution_count": 17,
     "metadata": {},
     "output_type": "execute_result"
    }
   ],
   "source": [
    "len(gs.drop_duplicates())"
   ]
  },
  {
   "cell_type": "code",
   "execution_count": 18,
   "id": "da5eef08",
   "metadata": {},
   "outputs": [],
   "source": [
    "# Solution 1: use Shapely to detect the same geometries"
   ]
  },
  {
   "cell_type": "code",
   "execution_count": 19,
   "id": "491dde6f",
   "metadata": {},
   "outputs": [],
   "source": [
    "def drop_duplicated_geometries(geoseries: gpd.GeoSeries):\n",
    "    \"\"\"\n",
    "    Function drops duplicated geometries from a geoseries. It works as follow:\n",
    "    \n",
    "        1. Take record from the dataset. Check it's index against list of indexes-to-skip.\n",
    "        If it's not there then move to the next step.\n",
    "        2. Store record's index in the list of processed indexes (to re-create geoseries without duplicates)\n",
    "        and in the list of indexes-to-skip.\n",
    "        3. Compare this record to all other records. If any of them is a duplicate then store its index in\n",
    "        the indexes-to-skip.\n",
    "        4. If all records are checked then re-create dataframe without duplicates based on the list\n",
    "        of processed indexes.\n",
    "        \n",
    "    INPUT:\n",
    "    \n",
    "    :param geoseries: (gpd.GeoSeries)\n",
    "    \n",
    "    OUTPUT:\n",
    "    \n",
    "    :returns: (gpd.Geoseries)\n",
    "    \"\"\"\n",
    "    \n",
    "    indexes_to_skip = []\n",
    "    processed_indexes = []\n",
    "    \n",
    "    for index, geom in geoseries.items():\n",
    "        if index not in indexes_to_skip:\n",
    "            processed_indexes.append(index)\n",
    "            indexes_to_skip.append(index)\n",
    "            for other_index, other_geom in geoseries.items():\n",
    "                if other_index in indexes_to_skip:\n",
    "                    pass\n",
    "                else:\n",
    "                    if geom.equals(other_geom):\n",
    "                        indexes_to_skip.append(other_index)\n",
    "                    else:\n",
    "                        pass\n",
    "    output_gs = geoseries[processed_indexes].copy()\n",
    "    return output_gs"
   ]
  },
  {
   "cell_type": "code",
   "execution_count": 20,
   "id": "e40ac949",
   "metadata": {},
   "outputs": [
    {
     "data": {
      "text/plain": [
       "0    POLYGON ((0.00000 1.00000, 2.00000 3.00000, 2....\n",
       "dtype: geometry"
      ]
     },
     "execution_count": 20,
     "metadata": {},
     "output_type": "execute_result"
    }
   ],
   "source": [
    "drop_duplicated_geometries(gs)"
   ]
  },
  {
   "cell_type": "code",
   "execution_count": 22,
   "id": "61d1a21d",
   "metadata": {},
   "outputs": [],
   "source": [
    "# normalize geometries then plot\n",
    "\n",
    "def norm_drop_geometries(geoseries: gpd.GeoSeries):\n",
    "    \"\"\"\n",
    "    Function normalizes geometry in a geoseries, and then drops repeating records.\n",
    "    \n",
    "    INPUT\n",
    "    \n",
    "    :param geoseries: (gpd.GeoSeries)\n",
    "    \n",
    "    OUTPUT:\n",
    "    \n",
    "    :returns: (gpd.Geoseries)\n",
    "    \"\"\"\n",
    "    \n",
    "    normalized = geoseries.normalize()\n",
    "    deduplicated = normalized.drop_duplicates()\n",
    "    return deduplicated\n"
   ]
  },
  {
   "cell_type": "code",
   "execution_count": 23,
   "id": "8ebd6cef",
   "metadata": {},
   "outputs": [
    {
     "data": {
      "text/plain": [
       "0    POLYGON ((0.00000 1.00000, 2.00000 3.00000, 2....\n",
       "1    POLYGON ((2.00000 3.00000, 2.00000 6.00000, 0....\n",
       "dtype: geometry"
      ]
     },
     "execution_count": 23,
     "metadata": {},
     "output_type": "execute_result"
    }
   ],
   "source": [
    "gs"
   ]
  },
  {
   "cell_type": "code",
   "execution_count": 24,
   "id": "cec05e83",
   "metadata": {},
   "outputs": [
    {
     "data": {
      "text/plain": [
       "0    POLYGON ((0.00000 1.00000, 2.00000 6.00000, 2....\n",
       "dtype: geometry"
      ]
     },
     "execution_count": 24,
     "metadata": {},
     "output_type": "execute_result"
    }
   ],
   "source": [
    "norm_drop_geometries(gs)"
   ]
  },
  {
   "cell_type": "code",
   "execution_count": 25,
   "id": "ead62ee0",
   "metadata": {},
   "outputs": [],
   "source": [
    "# Compare time - floats"
   ]
  },
  {
   "cell_type": "code",
   "execution_count": 26,
   "id": "7f69def4",
   "metadata": {},
   "outputs": [],
   "source": [
    "ds = gpd.read_file('crimerates.shp')"
   ]
  },
  {
   "cell_type": "code",
   "execution_count": 27,
   "id": "fd89cfe5",
   "metadata": {},
   "outputs": [
    {
     "data": {
      "text/html": [
       "<div>\n",
       "<style scoped>\n",
       "    .dataframe tbody tr th:only-of-type {\n",
       "        vertical-align: middle;\n",
       "    }\n",
       "\n",
       "    .dataframe tbody tr th {\n",
       "        vertical-align: top;\n",
       "    }\n",
       "\n",
       "    .dataframe thead th {\n",
       "        text-align: right;\n",
       "    }\n",
       "</style>\n",
       "<table border=\"1\" class=\"dataframe\">\n",
       "  <thead>\n",
       "    <tr style=\"text-align: right;\">\n",
       "      <th></th>\n",
       "      <th>CrimeRate</th>\n",
       "      <th>Pop</th>\n",
       "      <th>Code</th>\n",
       "      <th>geometry</th>\n",
       "    </tr>\n",
       "  </thead>\n",
       "  <tbody>\n",
       "    <tr>\n",
       "      <th>0</th>\n",
       "      <td>1041.401060</td>\n",
       "      <td>74515</td>\n",
       "      <td>1815</td>\n",
       "      <td>POLYGON ((692305.365 260282.248, 692313.646 26...</td>\n",
       "    </tr>\n",
       "    <tr>\n",
       "      <th>1</th>\n",
       "      <td>1381.035939</td>\n",
       "      <td>30774</td>\n",
       "      <td>1410</td>\n",
       "      <td>POLYGON ((753920.175 497017.076, 753918.822 49...</td>\n",
       "    </tr>\n",
       "    <tr>\n",
       "      <th>2</th>\n",
       "      <td>2023.040031</td>\n",
       "      <td>188281</td>\n",
       "      <td>1418</td>\n",
       "      <td>POLYGON ((644442.384 473992.041, 644345.678 47...</td>\n",
       "    </tr>\n",
       "    <tr>\n",
       "      <th>3</th>\n",
       "      <td>1045.367093</td>\n",
       "      <td>152291</td>\n",
       "      <td>1425</td>\n",
       "      <td>POLYGON ((638056.482 404421.246, 638059.412 40...</td>\n",
       "    </tr>\n",
       "    <tr>\n",
       "      <th>4</th>\n",
       "      <td>1499.403318</td>\n",
       "      <td>51954</td>\n",
       "      <td>1427</td>\n",
       "      <td>POLYGON ((534236.749 555932.727, 534235.027 55...</td>\n",
       "    </tr>\n",
       "  </tbody>\n",
       "</table>\n",
       "</div>"
      ],
      "text/plain": [
       "     CrimeRate     Pop  Code   \n",
       "0  1041.401060   74515  1815  \\\n",
       "1  1381.035939   30774  1410   \n",
       "2  2023.040031  188281  1418   \n",
       "3  1045.367093  152291  1425   \n",
       "4  1499.403318   51954  1427   \n",
       "\n",
       "                                            geometry  \n",
       "0  POLYGON ((692305.365 260282.248, 692313.646 26...  \n",
       "1  POLYGON ((753920.175 497017.076, 753918.822 49...  \n",
       "2  POLYGON ((644442.384 473992.041, 644345.678 47...  \n",
       "3  POLYGON ((638056.482 404421.246, 638059.412 40...  \n",
       "4  POLYGON ((534236.749 555932.727, 534235.027 55...  "
      ]
     },
     "execution_count": 27,
     "metadata": {},
     "output_type": "execute_result"
    }
   ],
   "source": [
    "ds.head()"
   ]
  },
  {
   "cell_type": "code",
   "execution_count": 29,
   "id": "e67441b3",
   "metadata": {},
   "outputs": [],
   "source": [
    "geom = ds.geometry"
   ]
  },
  {
   "cell_type": "code",
   "execution_count": 30,
   "id": "888eae89",
   "metadata": {},
   "outputs": [
    {
     "data": {
      "text/plain": [
       "0      POLYGON ((692305.365 260282.248, 692313.646 26...\n",
       "1      POLYGON ((753920.175 497017.076, 753918.822 49...\n",
       "2      POLYGON ((644442.384 473992.041, 644345.678 47...\n",
       "3      POLYGON ((638056.482 404421.246, 638059.412 40...\n",
       "4      POLYGON ((534236.749 555932.727, 534235.027 55...\n",
       "                             ...                        \n",
       "375    POLYGON ((521445.985 722541.335, 521523.278 72...\n",
       "376    POLYGON ((303544.254 353195.337, 303547.016 35...\n",
       "377    POLYGON ((702854.223 532567.782, 702853.911 53...\n",
       "378    POLYGON ((430377.866 773965.783, 430351.853 77...\n",
       "379    MULTIPOLYGON (((650056.182 292962.307, 650058....\n",
       "Name: geometry, Length: 380, dtype: geometry"
      ]
     },
     "execution_count": 30,
     "metadata": {},
     "output_type": "execute_result"
    }
   ],
   "source": [
    "geom"
   ]
  },
  {
   "cell_type": "code",
   "execution_count": 31,
   "id": "68466438",
   "metadata": {},
   "outputs": [],
   "source": [
    "# Prepare test datasets"
   ]
  },
  {
   "cell_type": "code",
   "execution_count": 116,
   "id": "70401f00",
   "metadata": {},
   "outputs": [],
   "source": [
    "def prepare_test_ds(geoseries: gpd.GeoSeries, end_size_multiplier: float):\n",
    "    \"\"\"\n",
    "    Function prepares test data.\n",
    "    \n",
    "    INPUT\n",
    "    \n",
    "    :param geoseries: (gpd.GeoSeries)\n",
    "    :param end_size_multiplier: (float) How big must be output dataset, value should be greater than 1.\n",
    "    \n",
    "    OUTPUT\n",
    "    \n",
    "    :returns: (gpd.Geoseries)\n",
    "    \"\"\"\n",
    "    \n",
    "    n_new_recs = int(len(geoseries) * end_size_multiplier) - len(geoseries)\n",
    "    \n",
    "    if n_new_recs < 1:\n",
    "        n_new_recs = 2\n",
    "    \n",
    "    new_records = []\n",
    "    \n",
    "    idx = 0\n",
    "    \n",
    "    while idx < n_new_recs:\n",
    "        _ds = geoseries.sample(1).to_list()[0]\n",
    "        # transform ds, shift points\n",
    "        if isinstance(_ds, Polygon):\n",
    "            nds = np.asarray(_ds.exterior.coords)\n",
    "            rds = np.roll(nds, 1, axis=0)\n",
    "            rds[0] = rds[-1]\n",
    "            _p = Polygon(rds)\n",
    "            new_records.append(_p)\n",
    "            idx = idx + 1\n",
    "        elif isinstance(_ds, MultiPolygon):\n",
    "            # potentially todo :)\n",
    "            pass\n",
    "        \n",
    "    # Join records\n",
    "    new_series = pd.concat([geoseries, gpd.GeoSeries(new_records, crs=geoseries.crs)], ignore_index=True)\n",
    "    \n",
    "            \n",
    "    return new_series\n",
    "    "
   ]
  },
  {
   "cell_type": "code",
   "execution_count": 128,
   "id": "b544b4c9",
   "metadata": {},
   "outputs": [
    {
     "name": "stderr",
     "output_type": "stream",
     "text": [
      "100%|███████████████████████████████████████████| 10/10 [02:12<00:00, 13.28s/it]\n"
     ]
    }
   ],
   "source": [
    "# Tests\n",
    "\n",
    "init_size = len(geom)\n",
    "set_sizes = np.linspace(100, 100000, 10)\n",
    "test_repetitions = 10\n",
    "percent_add = 0.05\n",
    "\n",
    "results = []\n",
    "\n",
    "for ss in tqdm(set_sizes):\n",
    "    base_set_size = int(ss)\n",
    "    additional_recs = 1 + percent_add\n",
    "    \n",
    "    if base_set_size < init_size:\n",
    "        sample = geom.sample(base_set_size).copy(deep=True)\n",
    "    else:\n",
    "        sample = geom.copy(deep=True)\n",
    "    \n",
    "    for _ in range(test_repetitions):\n",
    "        \n",
    "        # Create new ds\n",
    "        test_ds = prepare_test_ds(sample, additional_recs)\n",
    "        \n",
    "        if len(test_ds) == len(sample):\n",
    "            raise ValueError('Test dataset must be larger than sample')\n",
    "        \n",
    "        ts0 = time.perf_counter()\n",
    "        shap_dropped = drop_duplicated_geometries(test_ds)\n",
    "        tsx = time.perf_counter()\n",
    "        time_s = tsx - ts0\n",
    "        \n",
    "        tn0 = time.perf_counter()\n",
    "        norm_dropped = norm_drop_geometries(test_ds)\n",
    "        tnx = time.perf_counter()\n",
    "        time_n = tnx - tn0\n",
    "        \n",
    "        if len(shap_dropped) >= len(test_ds):\n",
    "            raise RuntimeError('Shapely-based method did not work')\n",
    "        \n",
    "        if len(norm_dropped) >= len(test_ds):\n",
    "            raise RuntimeError('Geopandas normalize-based method did not work')\n",
    "            \n",
    "        results.append([len(test_ds), time_s, 'shapely-indexing'])\n",
    "        results.append([len(test_ds), time_n, 'geopandas-normalize'])\n"
   ]
  },
  {
   "cell_type": "code",
   "execution_count": 129,
   "id": "a65bfd61",
   "metadata": {},
   "outputs": [],
   "source": [
    "df = pd.DataFrame(results, columns=['size', 'time', 'method'])"
   ]
  },
  {
   "cell_type": "code",
   "execution_count": 130,
   "id": "fcbd35cf",
   "metadata": {},
   "outputs": [
    {
     "data": {
      "image/png": "[encoded data removed]",
      "text/plain": [
       "<Figure size 1200x600 with 1 Axes>"
      ]
     },
     "metadata": {},
     "output_type": "display_data"
    }
   ],
   "source": [
    "plt.figure(figsize=(12, 6))\n",
    "sns.lineplot(data=df, x=\"size\", y=\"time\", hue=\"method\")\n",
    "plt.show()"
   ]
  },
  {
   "cell_type": "code",
   "execution_count": null,
   "id": "5cfd76d2",
   "metadata": {},
   "outputs": [],
   "source": []
  }
 ],
 "metadata": {
  "kernelspec": {
   "display_name": "Python 3 (ipykernel)",
   "language": "python",
   "name": "python3"
  },
  "language_info": {
   "codemirror_mode": {
    "name": "ipython",
    "version": 3
   },
   "file_extension": ".py",
   "mimetype": "text/x-python",
   "name": "python",
   "nbconvert_exporter": "python",
   "pygments_lexer": "ipython3",
   "version": "3.10.10"
  }
 },
 "nbformat": 4,
 "nbformat_minor": 5
}
