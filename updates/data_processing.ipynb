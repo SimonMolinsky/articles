{
 "cells": [
  {
   "cell_type": "code",
   "execution_count": 1,
   "id": "b1487cdf",
   "metadata": {},
   "outputs": [],
   "source": [
    "import glob\n",
    "import os\n",
    "import numpy as np\n",
    "import rasterio as rio\n",
    "from rio_toa import reflectance\n",
    "import matplotlib.pyplot as plt"
   ]
  },
  {
   "cell_type": "code",
   "execution_count": 22,
   "id": "f932e840",
   "metadata": {},
   "outputs": [],
   "source": [
    "source = 'UPDATE_unsupervised/LC08_L1TP_188018_20200927_20201005_02_T1/'\n",
    "destination = 'UPDATE_unsupervised/processed'"
   ]
  },
  {
   "cell_type": "code",
   "execution_count": 23,
   "id": "23286c96",
   "metadata": {},
   "outputs": [
    {
     "data": {
      "text/plain": [
       "'UPDATE_unsupervised/LC08_L1TP_188018_20200927_20201005_02_T1/LC08_L1TP_188018_20200927_20201005_02_T1_MTL.txt'"
      ]
     },
     "execution_count": 23,
     "metadata": {},
     "output_type": "execute_result"
    }
   ],
   "source": [
    "src_mtl = glob.glob(os.path.join(source, '*MTL.txt'))[0]\n",
    "src_mtl"
   ]
  },
  {
   "cell_type": "code",
   "execution_count": 24,
   "id": "bcbbbe9b",
   "metadata": {},
   "outputs": [
    {
     "data": {
      "text/plain": [
       "['B1.TIF', 'B2.TIF', 'B3.TIF', 'B4.TIF', 'B5.TIF', 'B6.TIF', 'B7.TIF']"
      ]
     },
     "execution_count": 24,
     "metadata": {},
     "output_type": "execute_result"
    }
   ],
   "source": [
    "def get_band_path(p, band_n):\n",
    "    band_path = glob.glob(os.path.join(p, f'*{band_n}'))[0]\n",
    "    return band_path\n",
    "\n",
    "bands = [f'B{x}.TIF' for x in range(1, 8)]\n",
    "bands"
   ]
  },
  {
   "cell_type": "code",
   "execution_count": 25,
   "id": "23c6db65",
   "metadata": {},
   "outputs": [
    {
     "data": {
      "text/plain": [
       "['UPDATE_unsupervised/LC08_L1TP_188018_20200927_20201005_02_T1/LC08_L1TP_188018_20200927_20201005_02_T1_B1.TIF',\n",
       " 'UPDATE_unsupervised/LC08_L1TP_188018_20200927_20201005_02_T1/LC08_L1TP_188018_20200927_20201005_02_T1_B2.TIF',\n",
       " 'UPDATE_unsupervised/LC08_L1TP_188018_20200927_20201005_02_T1/LC08_L1TP_188018_20200927_20201005_02_T1_B3.TIF',\n",
       " 'UPDATE_unsupervised/LC08_L1TP_188018_20200927_20201005_02_T1/LC08_L1TP_188018_20200927_20201005_02_T1_B4.TIF',\n",
       " 'UPDATE_unsupervised/LC08_L1TP_188018_20200927_20201005_02_T1/LC08_L1TP_188018_20200927_20201005_02_T1_B5.TIF',\n",
       " 'UPDATE_unsupervised/LC08_L1TP_188018_20200927_20201005_02_T1/LC08_L1TP_188018_20200927_20201005_02_T1_B6.TIF',\n",
       " 'UPDATE_unsupervised/LC08_L1TP_188018_20200927_20201005_02_T1/LC08_L1TP_188018_20200927_20201005_02_T1_B7.TIF']"
      ]
     },
     "execution_count": 25,
     "metadata": {},
     "output_type": "execute_result"
    }
   ],
   "source": [
    "paths = [get_band_path(source, b) for b in bands]\n",
    "paths"
   ]
  },
  {
   "cell_type": "code",
   "execution_count": 26,
   "id": "b64633b0",
   "metadata": {},
   "outputs": [
    {
     "data": {
      "text/plain": [
       "['UPDATE_unsupervised/processed/B1.TIF',\n",
       " 'UPDATE_unsupervised/processed/B2.TIF',\n",
       " 'UPDATE_unsupervised/processed/B3.TIF',\n",
       " 'UPDATE_unsupervised/processed/B4.TIF',\n",
       " 'UPDATE_unsupervised/processed/B5.TIF',\n",
       " 'UPDATE_unsupervised/processed/B6.TIF',\n",
       " 'UPDATE_unsupervised/processed/B7.TIF']"
      ]
     },
     "execution_count": 26,
     "metadata": {},
     "output_type": "execute_result"
    }
   ],
   "source": [
    "dest_paths = [os.path.join(destination, f'{b}') for b in bands]\n",
    "dest_paths"
   ]
  },
  {
   "cell_type": "code",
   "execution_count": 27,
   "id": "2edbb7ae",
   "metadata": {},
   "outputs": [],
   "source": [
    "creation_options = {'nodata': 0, 'predict': 2}\n",
    "dst_dtype = 'uint16'\n",
    "processes = 4\n",
    "rescale_factor = 55000\n",
    "\n",
    "for idx, b in enumerate(paths):\n",
    "    dst_path = dest_paths[idx]\n",
    "    band_number = idx + 1\n",
    "    \n",
    "    reflectance.calculate_landsat_reflectance(src_paths=[b],\n",
    "                                              src_mtl=src_mtl,\n",
    "                                              dst_path=dst_path,\n",
    "                                              rescale_factor=rescale_factor,\n",
    "                                              creation_options=creation_options,\n",
    "                                              bands=[band_number],\n",
    "                                              dst_dtype=dst_dtype,\n",
    "                                              processes=processes,\n",
    "                                              pixel_sunangle=True)"
   ]
  },
  {
   "cell_type": "code",
   "execution_count": null,
   "id": "47050424",
   "metadata": {},
   "outputs": [],
   "source": []
  }
 ],
 "metadata": {
  "kernelspec": {
   "display_name": "Python 3 (ipykernel)",
   "language": "python",
   "name": "python3"
  },
  "language_info": {
   "codemirror_mode": {
    "name": "ipython",
    "version": 3
   },
   "file_extension": ".py",
   "mimetype": "text/x-python",
   "name": "python",
   "nbconvert_exporter": "python",
   "pygments_lexer": "ipython3",
   "version": "3.10.0"
  }
 },
 "nbformat": 4,
 "nbformat_minor": 5
}
