{
 "cells": [
  {
   "cell_type": "code",
   "execution_count": 1,
   "id": "1727c528",
   "metadata": {},
   "outputs": [],
   "source": [
    "import requests\n",
    "\n",
    "WEBPAGE_URL = 'https://ml-gis-service.com/index.php/teaching/'"
   ]
  },
  {
   "cell_type": "code",
   "execution_count": 2,
   "id": "261b536a",
   "metadata": {},
   "outputs": [],
   "source": [
    "# Always monitor connections!\n",
    "# https://requests.readthedocs.io/en/latest/user/quickstart/#errors-and-exceptions\n",
    "\n",
    "try:\n",
    "    page = requests.get(WEBPAGE_URL)\n",
    "except requests.exceptions.Timeout:\n",
    "    print('Info: page is not available now...')\n",
    "except requests.exceptions.TooManyRedirects:\n",
    "    print('Info: probably url has changed...')\n",
    "except requests.exceptions.RequestException as e:\n",
    "    raise SystemExit(e('Critical Error!'))"
   ]
  },
  {
   "cell_type": "code",
   "execution_count": 3,
   "id": "8d31ca28",
   "metadata": {},
   "outputs": [
    {
     "data": {
      "text/plain": [
       "200"
      ]
     },
     "execution_count": 3,
     "metadata": {},
     "output_type": "execute_result"
    }
   ],
   "source": [
    "page.status_code"
   ]
  },
  {
   "cell_type": "code",
   "execution_count": 4,
   "id": "aeca0eae",
   "metadata": {},
   "outputs": [],
   "source": [
    "def check_page_tag(page_content, tag_type, unique_text):\n",
    "    \"\"\"\n",
    "    Function performs check if we're connected to the right page\n",
    "    based on the header value. Method raises IOError if header is\n",
    "    not detected.\n",
    "    \n",
    "    :param page_content: (bytes) output of requests package,\n",
    "    :param tag_type: (str) HTML tag type to check\n",
    "    :param unique_text: (str) unique text inside tag_type element from the page\n",
    "\n",
    "    \"\"\"\n",
    "    page_content = str(page_content)\n",
    "    error_message = f'You\\'ve not connected to the service.\\n\\\n",
    "    HTML tag {tag_type} of value \"{unique_text}\" wasn\\'t detected.'\n",
    "    \n",
    "    headers = soup.find_all(tag_type)\n",
    "    \n",
    "    # Now we can terminate if there are no headers\n",
    "    if not headers:\n",
    "        raise IOError(error_message)\n",
    "    else:\n",
    "        # Check if unique header exist\n",
    "        headers_text = [h.get_text() for h in headers]\n",
    "    \n",
    "        if not unique_text in headers_text:\n",
    "            raise IOError(error_message)"
   ]
  },
  {
   "cell_type": "code",
   "execution_count": 5,
   "id": "07e9ff89",
   "metadata": {},
   "outputs": [],
   "source": [
    "from bs4 import BeautifulSoup\n",
    "\n",
    "WEBPAGE_HEADER = 'Data Science workshops materials'\n",
    "\n",
    "soup = BeautifulSoup(page.content, 'html.parser')\n",
    "check_page_tag(page.content, 'h2', WEBPAGE_HEADER)"
   ]
  },
  {
   "cell_type": "code",
   "execution_count": 6,
   "id": "318e3855",
   "metadata": {
    "scrolled": true
   },
   "outputs": [
    {
     "name": "stdout",
     "output_type": "stream",
     "text": [
      "[<li class=\"menu-item menu-item-type-post_type menu-item-object-page narrow\" id=\"nav-menu-item-87\"><a class=\"\" href=\"https://ml-gis-service.com/index.php/about/\"><span class=\"item_outer\"><span class=\"item_inner\"><span class=\"item_text\">Author</span></span></span></a></li>, <li class=\"menu-item menu-item-type-post_type menu-item-object-page current-menu-item page_item page-item-121 current_page_item mkd-active-item narrow\" id=\"nav-menu-item-124\"><a class=\"current\" href=\"https://ml-gis-service.com/index.php/teaching/\"><span class=\"item_outer\"><span class=\"item_inner\"><span class=\"item_text\">Teaching</span></span></span></a></li>, <li class=\"cat-item cat-item-2\"><a href=\"https://ml-gis-service.com/index.php/category/data-engineering/\">Data Engineering</a>\n",
      "</li>, <li class=\"cat-item cat-item-18\"><a href=\"https://ml-gis-service.com/index.php/category/data-science/\">Data Science</a>\n",
      "</li>, <li class=\"cat-item cat-item-19\"><a href=\"https://ml-gis-service.com/index.php/category/machine-learning/\">Machine Learning</a>\n",
      "</li>, <li class=\"cat-item cat-item-50\"><a href=\"https://ml-gis-service.com/index.php/category/management/\">Management</a>\n",
      "</li>, <li class=\"cat-item cat-item-48\"><a href=\"https://ml-gis-service.com/index.php/category/personal-development/\">Personal Development</a>\n",
      "</li>, <li class=\"cat-item cat-item-66\"><a href=\"https://ml-gis-service.com/index.php/category/pyinterpolate/\">Pyinterpolate</a>\n",
      "</li>, <li class=\"cat-item cat-item-3\"><a href=\"https://ml-gis-service.com/index.php/category/python/\">Python</a>\n",
      "</li>, <li class=\"cat-item cat-item-49\"><a href=\"https://ml-gis-service.com/index.php/category/rd/\">R&amp;D</a>\n",
      "</li>, <li class=\"cat-item cat-item-4\"><a href=\"https://ml-gis-service.com/index.php/category/raster/\">Raster</a>\n",
      "</li>, <li class=\"cat-item cat-item-20\"><a href=\"https://ml-gis-service.com/index.php/category/remote-sensing/\">Remote Sensing</a>\n",
      "</li>, <li class=\"cat-item cat-item-17\"><a href=\"https://ml-gis-service.com/index.php/category/scripts/\">Scripts</a>\n",
      "</li>, <li class=\"cat-item cat-item-30\"><a href=\"https://ml-gis-service.com/index.php/category/spatial-statistics/\">Spatial Statistics</a>\n",
      "</li>, <li class=\"cat-item cat-item-31\"><a href=\"https://ml-gis-service.com/index.php/category/tutorials/\">Tutorials</a>\n",
      "</li>, <li class=\"menu-item menu-item-type-post_type menu-item-object-page\" id=\"mobile-menu-item-87\"><a class=\"\" href=\"https://ml-gis-service.com/index.php/about/\"><span>Author</span></a></li>, <li class=\"menu-item menu-item-type-post_type menu-item-object-page current-menu-item page_item page-item-121 current_page_item mkd-active-item\" id=\"mobile-menu-item-124\"><a class=\"current\" href=\"https://ml-gis-service.com/index.php/teaching/\"><span>Teaching</span></a></li>, <li>time</li>, <li>year</li>, <li>people</li>, <li>way</li>, <li>day</li>, <li>man</li>, <li>thing</li>, <li>woman</li>, <li>life</li>, <li>child</li>, <li>world</li>, <li>school</li>, <li>state</li>, <li>family</li>, <li>student</li>, <li>group</li>, <li>country</li>, <li>problem</li>, <li>hand</li>, <li>part</li>, <li>place</li>, <li>case</li>, <li>week</li>, <li>company</li>, <li>system</li>, <li>program</li>, <li>question</li>, <li>work</li>, <li>government</li>, <li>number</li>, <li>night</li>, <li>point</li>, <li>home</li>, <li>water</li>, <li>room</li>, <li>mother</li>, <li>area</li>, <li>money</li>, <li>story</li>, <li>fact</li>, <li>month</li>, <li>lot</li>, <li>right</li>, <li>study</li>, <li>book</li>, <li>eye</li>, <li>job</li>, <li>word</li>, <li>business</li>, <li>issue</li>, <li>side</li>, <li>kind</li>, <li>head</li>, <li>house</li>, <li>service</li>, <li>friend</li>, <li>father</li>, <li>power</li>, <li>hour</li>, <li>game</li>, <li>line</li>, <li>end</li>, <li>member</li>, <li>law</li>, <li>car</li>, <li>city</li>, <li>community</li>, <li>name</li>, <li>president</li>, <li>team</li>, <li>minute</li>, <li>idea</li>, <li>kid</li>, <li>body</li>, <li>information</li>, <li>back</li>, <li>parent</li>, <li>face</li>, <li>others</li>, <li>level</li>, <li>office</li>, <li>door</li>, <li>health</li>, <li>person</li>, <li>art</li>, <li>war</li>, <li>history</li>, <li>party</li>, <li>result</li>, <li>change</li>, <li>morning</li>, <li>reason</li>, <li>research</li>, <li>girl</li>, <li>guy</li>, <li>moment</li>, <li>air</li>, <li>teacher</li>, <li>force</li>, <li>education</li>]\n"
     ]
    }
   ],
   "source": [
    "words_candidates = soup.find_all('li')\n",
    "print(words_candidates)"
   ]
  },
  {
   "cell_type": "code",
   "execution_count": 7,
   "id": "dce50eac",
   "metadata": {},
   "outputs": [],
   "source": [
    "words_candidates = soup.find_all('li', class_=None)\n",
    "words = [x.get_text() for x in words_candidates]"
   ]
  },
  {
   "cell_type": "markdown",
   "id": "91928d11",
   "metadata": {},
   "source": [
    "## Levenstein distance - sample word"
   ]
  },
  {
   "cell_type": "code",
   "execution_count": 8,
   "id": "acd78e0b",
   "metadata": {},
   "outputs": [],
   "source": [
    "from fuzzywuzzy import fuzz\n",
    "\n",
    "SAMPLE = 'shark'  # you should create other word"
   ]
  },
  {
   "cell_type": "code",
   "execution_count": 9,
   "id": "6d369e4a",
   "metadata": {},
   "outputs": [],
   "source": [
    "def find_distance(word, list_of_words):\n",
    "    \"\"\"\n",
    "    Function calculates Levenshtein Distance between given word\n",
    "    and other words.\n",
    "    \n",
    "    :param word: (str) single word to test distance from it to other\n",
    "        words,\n",
    "    :param list_of_words: (list) list of other words to compare\n",
    "    \n",
    "    \n",
    "    :return: (list) list of distances from a given word to other words,\n",
    "        position of each distance is the same as other words indexes.\n",
    "    \"\"\"\n",
    "    \n",
    "    distances = []\n",
    "    for single_word in list_of_words:\n",
    "        distance = fuzz.ratio(word, single_word)\n",
    "        distances.append(distance)\n",
    "    return distances"
   ]
  },
  {
   "cell_type": "code",
   "execution_count": 10,
   "id": "10b2ecb9",
   "metadata": {},
   "outputs": [],
   "source": [
    "distances = find_distance(SAMPLE, words)"
   ]
  },
  {
   "cell_type": "code",
   "execution_count": 11,
   "id": "3b817761",
   "metadata": {},
   "outputs": [
    {
     "data": {
      "text/plain": [
       "[0, 44, 0]"
      ]
     },
     "execution_count": 11,
     "metadata": {},
     "output_type": "execute_result"
    }
   ],
   "source": [
    "distances[:3]"
   ]
  },
  {
   "cell_type": "markdown",
   "id": "f9b84080",
   "metadata": {},
   "source": [
    "### Results to DataFrame"
   ]
  },
  {
   "cell_type": "code",
   "execution_count": 12,
   "id": "2209c118",
   "metadata": {},
   "outputs": [],
   "source": [
    "import pandas as pd\n",
    "\n",
    "df = pd.DataFrame(data=distances, index=words, columns=[SAMPLE])"
   ]
  },
  {
   "cell_type": "code",
   "execution_count": 13,
   "id": "a3391dd1",
   "metadata": {},
   "outputs": [
    {
     "data": {
      "text/html": [
       "<div>\n",
       "<style scoped>\n",
       "    .dataframe tbody tr th:only-of-type {\n",
       "        vertical-align: middle;\n",
       "    }\n",
       "\n",
       "    .dataframe tbody tr th {\n",
       "        vertical-align: top;\n",
       "    }\n",
       "\n",
       "    .dataframe thead th {\n",
       "        text-align: right;\n",
       "    }\n",
       "</style>\n",
       "<table border=\"1\" class=\"dataframe\">\n",
       "  <thead>\n",
       "    <tr style=\"text-align: right;\">\n",
       "      <th></th>\n",
       "      <th>shark</th>\n",
       "    </tr>\n",
       "  </thead>\n",
       "  <tbody>\n",
       "    <tr>\n",
       "      <th>car</th>\n",
       "      <td>50</td>\n",
       "    </tr>\n",
       "    <tr>\n",
       "      <th>art</th>\n",
       "      <td>50</td>\n",
       "    </tr>\n",
       "    <tr>\n",
       "      <th>war</th>\n",
       "      <td>50</td>\n",
       "    </tr>\n",
       "    <tr>\n",
       "      <th>air</th>\n",
       "      <td>50</td>\n",
       "    </tr>\n",
       "  </tbody>\n",
       "</table>\n",
       "</div>"
      ],
      "text/plain": [
       "     shark\n",
       "car     50\n",
       "art     50\n",
       "war     50\n",
       "air     50"
      ]
     },
     "execution_count": 13,
     "metadata": {},
     "output_type": "execute_result"
    }
   ],
   "source": [
    "df[df[SAMPLE] >= 50]"
   ]
  },
  {
   "cell_type": "markdown",
   "id": "89aa6782",
   "metadata": {},
   "source": [
    "### Barplot"
   ]
  },
  {
   "cell_type": "code",
   "execution_count": 14,
   "id": "accac3fe",
   "metadata": {},
   "outputs": [],
   "source": [
    "import matplotlib.pyplot as plt\n",
    "import seaborn as sns"
   ]
  },
  {
   "cell_type": "code",
   "execution_count": 15,
   "id": "d05e0bd7",
   "metadata": {},
   "outputs": [],
   "source": [
    "def plot_bars(bardata, column_to_plot, lower_thresh=20):\n",
    "    \n",
    "    ndf = (bardata[bardata[column_to_plot] > lower_thresh]).sort_values(\n",
    "        column_to_plot, ascending=False)\n",
    "    \n",
    "    plt.figure(figsize=(14, 6))\n",
    "    sns.barplot(x=ndf.index,\n",
    "                y=ndf[column_to_plot],\n",
    "                hue=ndf[column_to_plot],\n",
    "                palette=\"rocket\",\n",
    "                dodge=False)\n",
    "    plt.xticks(rotation=90)\n",
    "    plt.title(f'Distance from the word {SAMPLE} to other words')\n",
    "    plt.show()"
   ]
  },
  {
   "cell_type": "code",
   "execution_count": 16,
   "id": "5604c46d",
   "metadata": {},
   "outputs": [
    {
     "data": {
      "image/png": "[encoded data removed]",
      "text/plain": [
       "<Figure size 1008x432 with 1 Axes>"
      ]
     },
     "metadata": {
      "needs_background": "light"
     },
     "output_type": "display_data"
    }
   ],
   "source": [
    "plot_bars(df, SAMPLE)"
   ]
  },
  {
   "cell_type": "markdown",
   "id": "62280a47",
   "metadata": {},
   "source": [
    "## Multiple words - similarity matrix (map)"
   ]
  },
  {
   "cell_type": "code",
   "execution_count": 17,
   "id": "5ac65b9d",
   "metadata": {},
   "outputs": [],
   "source": [
    "words.append(SAMPLE)  # append sample word"
   ]
  },
  {
   "cell_type": "code",
   "execution_count": 18,
   "id": "3afd9544",
   "metadata": {},
   "outputs": [],
   "source": [
    "df = pd.DataFrame(index=words, columns=words)  # Create new DataFrame"
   ]
  },
  {
   "cell_type": "code",
   "execution_count": 19,
   "id": "ecec7901",
   "metadata": {
    "scrolled": true
   },
   "outputs": [
    {
     "data": {
      "text/html": [
       "<div>\n",
       "<style scoped>\n",
       "    .dataframe tbody tr th:only-of-type {\n",
       "        vertical-align: middle;\n",
       "    }\n",
       "\n",
       "    .dataframe tbody tr th {\n",
       "        vertical-align: top;\n",
       "    }\n",
       "\n",
       "    .dataframe thead th {\n",
       "        text-align: right;\n",
       "    }\n",
       "</style>\n",
       "<table border=\"1\" class=\"dataframe\">\n",
       "  <thead>\n",
       "    <tr style=\"text-align: right;\">\n",
       "      <th></th>\n",
       "      <th>time</th>\n",
       "      <th>year</th>\n",
       "      <th>people</th>\n",
       "      <th>way</th>\n",
       "      <th>day</th>\n",
       "      <th>man</th>\n",
       "      <th>thing</th>\n",
       "      <th>woman</th>\n",
       "      <th>life</th>\n",
       "      <th>child</th>\n",
       "      <th>...</th>\n",
       "      <th>reason</th>\n",
       "      <th>research</th>\n",
       "      <th>girl</th>\n",
       "      <th>guy</th>\n",
       "      <th>moment</th>\n",
       "      <th>air</th>\n",
       "      <th>teacher</th>\n",
       "      <th>force</th>\n",
       "      <th>education</th>\n",
       "      <th>shark</th>\n",
       "    </tr>\n",
       "  </thead>\n",
       "  <tbody>\n",
       "    <tr>\n",
       "      <th>time</th>\n",
       "      <td>NaN</td>\n",
       "      <td>NaN</td>\n",
       "      <td>NaN</td>\n",
       "      <td>NaN</td>\n",
       "      <td>NaN</td>\n",
       "      <td>NaN</td>\n",
       "      <td>NaN</td>\n",
       "      <td>NaN</td>\n",
       "      <td>NaN</td>\n",
       "      <td>NaN</td>\n",
       "      <td>...</td>\n",
       "      <td>NaN</td>\n",
       "      <td>NaN</td>\n",
       "      <td>NaN</td>\n",
       "      <td>NaN</td>\n",
       "      <td>NaN</td>\n",
       "      <td>NaN</td>\n",
       "      <td>NaN</td>\n",
       "      <td>NaN</td>\n",
       "      <td>NaN</td>\n",
       "      <td>NaN</td>\n",
       "    </tr>\n",
       "    <tr>\n",
       "      <th>year</th>\n",
       "      <td>NaN</td>\n",
       "      <td>NaN</td>\n",
       "      <td>NaN</td>\n",
       "      <td>NaN</td>\n",
       "      <td>NaN</td>\n",
       "      <td>NaN</td>\n",
       "      <td>NaN</td>\n",
       "      <td>NaN</td>\n",
       "      <td>NaN</td>\n",
       "      <td>NaN</td>\n",
       "      <td>...</td>\n",
       "      <td>NaN</td>\n",
       "      <td>NaN</td>\n",
       "      <td>NaN</td>\n",
       "      <td>NaN</td>\n",
       "      <td>NaN</td>\n",
       "      <td>NaN</td>\n",
       "      <td>NaN</td>\n",
       "      <td>NaN</td>\n",
       "      <td>NaN</td>\n",
       "      <td>NaN</td>\n",
       "    </tr>\n",
       "    <tr>\n",
       "      <th>people</th>\n",
       "      <td>NaN</td>\n",
       "      <td>NaN</td>\n",
       "      <td>NaN</td>\n",
       "      <td>NaN</td>\n",
       "      <td>NaN</td>\n",
       "      <td>NaN</td>\n",
       "      <td>NaN</td>\n",
       "      <td>NaN</td>\n",
       "      <td>NaN</td>\n",
       "      <td>NaN</td>\n",
       "      <td>...</td>\n",
       "      <td>NaN</td>\n",
       "      <td>NaN</td>\n",
       "      <td>NaN</td>\n",
       "      <td>NaN</td>\n",
       "      <td>NaN</td>\n",
       "      <td>NaN</td>\n",
       "      <td>NaN</td>\n",
       "      <td>NaN</td>\n",
       "      <td>NaN</td>\n",
       "      <td>NaN</td>\n",
       "    </tr>\n",
       "    <tr>\n",
       "      <th>way</th>\n",
       "      <td>NaN</td>\n",
       "      <td>NaN</td>\n",
       "      <td>NaN</td>\n",
       "      <td>NaN</td>\n",
       "      <td>NaN</td>\n",
       "      <td>NaN</td>\n",
       "      <td>NaN</td>\n",
       "      <td>NaN</td>\n",
       "      <td>NaN</td>\n",
       "      <td>NaN</td>\n",
       "      <td>...</td>\n",
       "      <td>NaN</td>\n",
       "      <td>NaN</td>\n",
       "      <td>NaN</td>\n",
       "      <td>NaN</td>\n",
       "      <td>NaN</td>\n",
       "      <td>NaN</td>\n",
       "      <td>NaN</td>\n",
       "      <td>NaN</td>\n",
       "      <td>NaN</td>\n",
       "      <td>NaN</td>\n",
       "    </tr>\n",
       "    <tr>\n",
       "      <th>day</th>\n",
       "      <td>NaN</td>\n",
       "      <td>NaN</td>\n",
       "      <td>NaN</td>\n",
       "      <td>NaN</td>\n",
       "      <td>NaN</td>\n",
       "      <td>NaN</td>\n",
       "      <td>NaN</td>\n",
       "      <td>NaN</td>\n",
       "      <td>NaN</td>\n",
       "      <td>NaN</td>\n",
       "      <td>...</td>\n",
       "      <td>NaN</td>\n",
       "      <td>NaN</td>\n",
       "      <td>NaN</td>\n",
       "      <td>NaN</td>\n",
       "      <td>NaN</td>\n",
       "      <td>NaN</td>\n",
       "      <td>NaN</td>\n",
       "      <td>NaN</td>\n",
       "      <td>NaN</td>\n",
       "      <td>NaN</td>\n",
       "    </tr>\n",
       "  </tbody>\n",
       "</table>\n",
       "<p>5 rows × 101 columns</p>\n",
       "</div>"
      ],
      "text/plain": [
       "       time year people  way  day  man thing woman life child  ... reason  \\\n",
       "time    NaN  NaN    NaN  NaN  NaN  NaN   NaN   NaN  NaN   NaN  ...    NaN   \n",
       "year    NaN  NaN    NaN  NaN  NaN  NaN   NaN   NaN  NaN   NaN  ...    NaN   \n",
       "people  NaN  NaN    NaN  NaN  NaN  NaN   NaN   NaN  NaN   NaN  ...    NaN   \n",
       "way     NaN  NaN    NaN  NaN  NaN  NaN   NaN   NaN  NaN   NaN  ...    NaN   \n",
       "day     NaN  NaN    NaN  NaN  NaN  NaN   NaN   NaN  NaN   NaN  ...    NaN   \n",
       "\n",
       "       research girl  guy moment  air teacher force education shark  \n",
       "time        NaN  NaN  NaN    NaN  NaN     NaN   NaN       NaN   NaN  \n",
       "year        NaN  NaN  NaN    NaN  NaN     NaN   NaN       NaN   NaN  \n",
       "people      NaN  NaN  NaN    NaN  NaN     NaN   NaN       NaN   NaN  \n",
       "way         NaN  NaN  NaN    NaN  NaN     NaN   NaN       NaN   NaN  \n",
       "day         NaN  NaN  NaN    NaN  NaN     NaN   NaN       NaN   NaN  \n",
       "\n",
       "[5 rows x 101 columns]"
      ]
     },
     "execution_count": 19,
     "metadata": {},
     "output_type": "execute_result"
    }
   ],
   "source": [
    "df.head()"
   ]
  },
  {
   "cell_type": "code",
   "execution_count": 20,
   "id": "10d6cf12",
   "metadata": {},
   "outputs": [],
   "source": [
    "for w_ in words:\n",
    "    for _w in words:\n",
    "        if w_ == _w:\n",
    "            pass\n",
    "        else:\n",
    "            # Check if value has been set already \n",
    "            if pd.isna(df.at[w_, _w]) and pd.isna(df.at[_w, w_]):\n",
    "                distance = fuzz.ratio(w_, _w)\n",
    "                df.at[w_, _w] = distance\n",
    "                df.at[_w, w_] = distance"
   ]
  },
  {
   "cell_type": "code",
   "execution_count": 21,
   "id": "0c36bc0b",
   "metadata": {},
   "outputs": [
    {
     "data": {
      "text/html": [
       "<div>\n",
       "<style scoped>\n",
       "    .dataframe tbody tr th:only-of-type {\n",
       "        vertical-align: middle;\n",
       "    }\n",
       "\n",
       "    .dataframe tbody tr th {\n",
       "        vertical-align: top;\n",
       "    }\n",
       "\n",
       "    .dataframe thead th {\n",
       "        text-align: right;\n",
       "    }\n",
       "</style>\n",
       "<table border=\"1\" class=\"dataframe\">\n",
       "  <thead>\n",
       "    <tr style=\"text-align: right;\">\n",
       "      <th></th>\n",
       "      <th>time</th>\n",
       "      <th>year</th>\n",
       "      <th>people</th>\n",
       "      <th>way</th>\n",
       "      <th>day</th>\n",
       "      <th>man</th>\n",
       "      <th>thing</th>\n",
       "      <th>woman</th>\n",
       "      <th>life</th>\n",
       "      <th>child</th>\n",
       "      <th>...</th>\n",
       "      <th>reason</th>\n",
       "      <th>research</th>\n",
       "      <th>girl</th>\n",
       "      <th>guy</th>\n",
       "      <th>moment</th>\n",
       "      <th>air</th>\n",
       "      <th>teacher</th>\n",
       "      <th>force</th>\n",
       "      <th>education</th>\n",
       "      <th>shark</th>\n",
       "    </tr>\n",
       "  </thead>\n",
       "  <tbody>\n",
       "    <tr>\n",
       "      <th>time</th>\n",
       "      <td>NaN</td>\n",
       "      <td>25</td>\n",
       "      <td>20</td>\n",
       "      <td>0</td>\n",
       "      <td>0</td>\n",
       "      <td>29</td>\n",
       "      <td>44</td>\n",
       "      <td>22</td>\n",
       "      <td>50</td>\n",
       "      <td>22</td>\n",
       "      <td>...</td>\n",
       "      <td>20</td>\n",
       "      <td>17</td>\n",
       "      <td>25</td>\n",
       "      <td>0</td>\n",
       "      <td>40</td>\n",
       "      <td>29</td>\n",
       "      <td>36</td>\n",
       "      <td>22</td>\n",
       "      <td>31</td>\n",
       "      <td>0</td>\n",
       "    </tr>\n",
       "    <tr>\n",
       "      <th>year</th>\n",
       "      <td>25</td>\n",
       "      <td>NaN</td>\n",
       "      <td>20</td>\n",
       "      <td>29</td>\n",
       "      <td>29</td>\n",
       "      <td>29</td>\n",
       "      <td>0</td>\n",
       "      <td>22</td>\n",
       "      <td>25</td>\n",
       "      <td>0</td>\n",
       "      <td>...</td>\n",
       "      <td>40</td>\n",
       "      <td>50</td>\n",
       "      <td>25</td>\n",
       "      <td>29</td>\n",
       "      <td>20</td>\n",
       "      <td>57</td>\n",
       "      <td>55</td>\n",
       "      <td>22</td>\n",
       "      <td>31</td>\n",
       "      <td>44</td>\n",
       "    </tr>\n",
       "    <tr>\n",
       "      <th>people</th>\n",
       "      <td>20</td>\n",
       "      <td>20</td>\n",
       "      <td>NaN</td>\n",
       "      <td>0</td>\n",
       "      <td>0</td>\n",
       "      <td>0</td>\n",
       "      <td>0</td>\n",
       "      <td>18</td>\n",
       "      <td>40</td>\n",
       "      <td>18</td>\n",
       "      <td>...</td>\n",
       "      <td>33</td>\n",
       "      <td>29</td>\n",
       "      <td>20</td>\n",
       "      <td>0</td>\n",
       "      <td>33</td>\n",
       "      <td>0</td>\n",
       "      <td>31</td>\n",
       "      <td>36</td>\n",
       "      <td>27</td>\n",
       "      <td>0</td>\n",
       "    </tr>\n",
       "    <tr>\n",
       "      <th>way</th>\n",
       "      <td>0</td>\n",
       "      <td>29</td>\n",
       "      <td>0</td>\n",
       "      <td>NaN</td>\n",
       "      <td>67</td>\n",
       "      <td>33</td>\n",
       "      <td>0</td>\n",
       "      <td>50</td>\n",
       "      <td>0</td>\n",
       "      <td>0</td>\n",
       "      <td>...</td>\n",
       "      <td>22</td>\n",
       "      <td>18</td>\n",
       "      <td>0</td>\n",
       "      <td>33</td>\n",
       "      <td>0</td>\n",
       "      <td>33</td>\n",
       "      <td>20</td>\n",
       "      <td>0</td>\n",
       "      <td>17</td>\n",
       "      <td>25</td>\n",
       "    </tr>\n",
       "    <tr>\n",
       "      <th>day</th>\n",
       "      <td>0</td>\n",
       "      <td>29</td>\n",
       "      <td>0</td>\n",
       "      <td>67</td>\n",
       "      <td>NaN</td>\n",
       "      <td>33</td>\n",
       "      <td>0</td>\n",
       "      <td>25</td>\n",
       "      <td>0</td>\n",
       "      <td>25</td>\n",
       "      <td>...</td>\n",
       "      <td>22</td>\n",
       "      <td>18</td>\n",
       "      <td>0</td>\n",
       "      <td>33</td>\n",
       "      <td>0</td>\n",
       "      <td>33</td>\n",
       "      <td>20</td>\n",
       "      <td>0</td>\n",
       "      <td>33</td>\n",
       "      <td>25</td>\n",
       "    </tr>\n",
       "  </tbody>\n",
       "</table>\n",
       "<p>5 rows × 101 columns</p>\n",
       "</div>"
      ],
      "text/plain": [
       "       time year people  way  day man thing woman life child  ... reason  \\\n",
       "time    NaN   25     20    0    0  29    44    22   50    22  ...     20   \n",
       "year     25  NaN     20   29   29  29     0    22   25     0  ...     40   \n",
       "people   20   20    NaN    0    0   0     0    18   40    18  ...     33   \n",
       "way       0   29      0  NaN   67  33     0    50    0     0  ...     22   \n",
       "day       0   29      0   67  NaN  33     0    25    0    25  ...     22   \n",
       "\n",
       "       research girl guy moment air teacher force education shark  \n",
       "time         17   25   0     40  29      36    22        31     0  \n",
       "year         50   25  29     20  57      55    22        31    44  \n",
       "people       29   20   0     33   0      31    36        27     0  \n",
       "way          18    0  33      0  33      20     0        17    25  \n",
       "day          18    0  33      0  33      20     0        33    25  \n",
       "\n",
       "[5 rows x 101 columns]"
      ]
     },
     "execution_count": 21,
     "metadata": {},
     "output_type": "execute_result"
    }
   ],
   "source": [
    "df.head()"
   ]
  },
  {
   "cell_type": "code",
   "execution_count": 22,
   "id": "271349af",
   "metadata": {},
   "outputs": [
    {
     "data": {
      "image/png": "[encoded data removed]",
      "text/plain": [
       "<Figure size 1008x864 with 2 Axes>"
      ]
     },
     "metadata": {
      "needs_background": "light"
     },
     "output_type": "display_data"
    }
   ],
   "source": [
    "plt.figure(figsize=(14, 12))\n",
    "sns.heatmap(df.astype(float), linewidths=1)\n",
    "plt.show()"
   ]
  },
  {
   "cell_type": "markdown",
   "id": "534ad4e9",
   "metadata": {},
   "source": [
    "---"
   ]
  }
 ],
 "metadata": {
  "kernelspec": {
   "display_name": "Python 3",
   "language": "python",
   "name": "python3"
  },
  "language_info": {
   "codemirror_mode": {
    "name": "ipython",
    "version": 3
   },
   "file_extension": ".py",
   "mimetype": "text/x-python",
   "name": "python",
   "nbconvert_exporter": "python",
   "pygments_lexer": "ipython3",
   "version": "3.7.10"
  }
 },
 "nbformat": 4,
 "nbformat_minor": 5
}
