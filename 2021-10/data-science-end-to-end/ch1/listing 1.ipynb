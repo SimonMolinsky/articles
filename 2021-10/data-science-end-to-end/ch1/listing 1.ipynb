{
 "cells": [
  {
   "cell_type": "code",
   "execution_count": 3,
   "id": "3f511037",
   "metadata": {},
   "outputs": [],
   "source": [
    "import requests\n",
    "from pandas import json_normalize"
   ]
  },
  {
   "cell_type": "code",
   "execution_count": 4,
   "id": "6638a596",
   "metadata": {},
   "outputs": [],
   "source": [
    "API_URL = 'http://api.gios.gov.pl/pjp-api/rest/aqindex/getIndex/52'"
   ]
  },
  {
   "cell_type": "code",
   "execution_count": 5,
   "id": "6082a1a7",
   "metadata": {},
   "outputs": [],
   "source": [
    "api_output = requests.get(API_URL).json()\n",
    "df = json_normalize(api_output)"
   ]
  },
  {
   "cell_type": "code",
   "execution_count": 6,
   "id": "80abce34",
   "metadata": {},
   "outputs": [
    {
     "data": {
      "text/html": [
       "<div>\n",
       "<style scoped>\n",
       "    .dataframe tbody tr th:only-of-type {\n",
       "        vertical-align: middle;\n",
       "    }\n",
       "\n",
       "    .dataframe tbody tr th {\n",
       "        vertical-align: top;\n",
       "    }\n",
       "\n",
       "    .dataframe thead th {\n",
       "        text-align: right;\n",
       "    }\n",
       "</style>\n",
       "<table border=\"1\" class=\"dataframe\">\n",
       "  <thead>\n",
       "    <tr style=\"text-align: right;\">\n",
       "      <th></th>\n",
       "      <th>id</th>\n",
       "      <th>stCalcDate</th>\n",
       "      <th>stSourceDataDate</th>\n",
       "      <th>so2CalcDate</th>\n",
       "      <th>so2SourceDataDate</th>\n",
       "      <th>no2CalcDate</th>\n",
       "      <th>no2SourceDataDate</th>\n",
       "      <th>pm10CalcDate</th>\n",
       "      <th>pm10SourceDataDate</th>\n",
       "      <th>pm25CalcDate</th>\n",
       "      <th>...</th>\n",
       "      <th>stIndexLevel.id</th>\n",
       "      <th>stIndexLevel.indexLevelName</th>\n",
       "      <th>so2IndexLevel.id</th>\n",
       "      <th>so2IndexLevel.indexLevelName</th>\n",
       "      <th>no2IndexLevel.id</th>\n",
       "      <th>no2IndexLevel.indexLevelName</th>\n",
       "      <th>pm10IndexLevel.id</th>\n",
       "      <th>pm10IndexLevel.indexLevelName</th>\n",
       "      <th>o3IndexLevel.id</th>\n",
       "      <th>o3IndexLevel.indexLevelName</th>\n",
       "    </tr>\n",
       "  </thead>\n",
       "  <tbody>\n",
       "    <tr>\n",
       "      <th>0</th>\n",
       "      <td>52</td>\n",
       "      <td>2021-10-06 12:20:19</td>\n",
       "      <td>2021-10-06 11:00:00</td>\n",
       "      <td>2021-10-06 12:20:19</td>\n",
       "      <td>2021-10-06 11:00:00</td>\n",
       "      <td>2021-10-06 12:20:19</td>\n",
       "      <td>2021-10-06 11:00:00</td>\n",
       "      <td>2021-10-06 12:20:19</td>\n",
       "      <td>2021-10-06 10:00:00</td>\n",
       "      <td>2021-10-06 12:20:19</td>\n",
       "      <td>...</td>\n",
       "      <td>0</td>\n",
       "      <td>Bardzo dobry</td>\n",
       "      <td>0</td>\n",
       "      <td>Bardzo dobry</td>\n",
       "      <td>0</td>\n",
       "      <td>Bardzo dobry</td>\n",
       "      <td>0</td>\n",
       "      <td>Bardzo dobry</td>\n",
       "      <td>0</td>\n",
       "      <td>Bardzo dobry</td>\n",
       "    </tr>\n",
       "  </tbody>\n",
       "</table>\n",
       "<p>1 rows × 26 columns</p>\n",
       "</div>"
      ],
      "text/plain": [
       "   id           stCalcDate     stSourceDataDate          so2CalcDate  \\\n",
       "0  52  2021-10-06 12:20:19  2021-10-06 11:00:00  2021-10-06 12:20:19   \n",
       "\n",
       "     so2SourceDataDate          no2CalcDate    no2SourceDataDate  \\\n",
       "0  2021-10-06 11:00:00  2021-10-06 12:20:19  2021-10-06 11:00:00   \n",
       "\n",
       "          pm10CalcDate   pm10SourceDataDate         pm25CalcDate  ...  \\\n",
       "0  2021-10-06 12:20:19  2021-10-06 10:00:00  2021-10-06 12:20:19  ...   \n",
       "\n",
       "  stIndexLevel.id stIndexLevel.indexLevelName so2IndexLevel.id  \\\n",
       "0               0                Bardzo dobry                0   \n",
       "\n",
       "  so2IndexLevel.indexLevelName  no2IndexLevel.id no2IndexLevel.indexLevelName  \\\n",
       "0                 Bardzo dobry                 0                 Bardzo dobry   \n",
       "\n",
       "   pm10IndexLevel.id pm10IndexLevel.indexLevelName  o3IndexLevel.id  \\\n",
       "0                  0                  Bardzo dobry                0   \n",
       "\n",
       "  o3IndexLevel.indexLevelName  \n",
       "0                Bardzo dobry  \n",
       "\n",
       "[1 rows x 26 columns]"
      ]
     },
     "execution_count": 6,
     "metadata": {},
     "output_type": "execute_result"
    }
   ],
   "source": [
    "df.head()"
   ]
  },
  {
   "cell_type": "code",
   "execution_count": 8,
   "id": "c6a52160",
   "metadata": {},
   "outputs": [
    {
     "data": {
      "text/plain": [
       "Index(['id', 'stCalcDate', 'stSourceDataDate', 'so2CalcDate',\n",
       "       'so2SourceDataDate', 'no2CalcDate', 'no2SourceDataDate', 'pm10CalcDate',\n",
       "       'pm10SourceDataDate', 'pm25CalcDate', 'pm25IndexLevel',\n",
       "       'pm25SourceDataDate', 'o3CalcDate', 'o3SourceDataDate', 'stIndexStatus',\n",
       "       'stIndexCrParam', 'stIndexLevel.id', 'stIndexLevel.indexLevelName',\n",
       "       'so2IndexLevel.id', 'so2IndexLevel.indexLevelName', 'no2IndexLevel.id',\n",
       "       'no2IndexLevel.indexLevelName', 'pm10IndexLevel.id',\n",
       "       'pm10IndexLevel.indexLevelName', 'o3IndexLevel.id',\n",
       "       'o3IndexLevel.indexLevelName'],\n",
       "      dtype='object')"
      ]
     },
     "execution_count": 8,
     "metadata": {},
     "output_type": "execute_result"
    }
   ],
   "source": [
    "df.columns"
   ]
  },
  {
   "cell_type": "code",
   "execution_count": null,
   "id": "b57c5b29",
   "metadata": {},
   "outputs": [],
   "source": []
  }
 ],
 "metadata": {
  "kernelspec": {
   "display_name": "Python 3 (ipykernel)",
   "language": "python",
   "name": "python3"
  },
  "language_info": {
   "codemirror_mode": {
    "name": "ipython",
    "version": 3
   },
   "file_extension": ".py",
   "mimetype": "text/x-python",
   "name": "python",
   "nbconvert_exporter": "python",
   "pygments_lexer": "ipython3",
   "version": "3.9.7"
  }
 },
 "nbformat": 4,
 "nbformat_minor": 5
}
