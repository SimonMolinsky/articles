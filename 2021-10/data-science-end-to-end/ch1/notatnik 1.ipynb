{
 "cells": [
  {
   "cell_type": "code",
   "execution_count": 1,
   "id": "d6b26f1c",
   "metadata": {},
   "outputs": [],
   "source": [
    "import requests"
   ]
  },
  {
   "cell_type": "code",
   "execution_count": 2,
   "id": "e4596371",
   "metadata": {},
   "outputs": [],
   "source": [
    "API_URL = 'http://api.gios.gov.pl/pjp-api/rest/aqindex/getIndex/52'"
   ]
  },
  {
   "cell_type": "code",
   "execution_count": 3,
   "id": "15522d6e",
   "metadata": {},
   "outputs": [],
   "source": [
    "data = requests.get(API_URL)"
   ]
  },
  {
   "cell_type": "code",
   "execution_count": 8,
   "id": "6167fe80",
   "metadata": {},
   "outputs": [
    {
     "name": "stdout",
     "output_type": "stream",
     "text": [
      "<Response [200]>\n"
     ]
    }
   ],
   "source": [
    "print(data)"
   ]
  }
 ],
 "metadata": {
  "kernelspec": {
   "display_name": "Python 3 (ipykernel)",
   "language": "python",
   "name": "python3"
  },
  "language_info": {
   "codemirror_mode": {
    "name": "ipython",
    "version": 3
   },
   "file_extension": ".py",
   "mimetype": "text/x-python",
   "name": "python",
   "nbconvert_exporter": "python",
   "pygments_lexer": "ipython3",
   "version": "3.9.7"
  }
 },
 "nbformat": 4,
 "nbformat_minor": 5
}
