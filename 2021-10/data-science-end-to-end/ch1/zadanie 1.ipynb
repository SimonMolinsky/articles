{
 "cells": [
  {
   "cell_type": "markdown",
   "id": "5b43960b",
   "metadata": {},
   "source": [
    "Wejdź pod adres:\n",
    "\n",
    "http://api.gios.gov.pl/pjp-api/rest/aqindex/getIndex/52\n",
    "\n",
    "i zobacz jak wygląda przykładowy plik JSON który będziemy przetwarzać w dalszej części artykułu."
   ]
  }
 ],
 "metadata": {
  "kernelspec": {
   "display_name": "Python 3 (ipykernel)",
   "language": "python",
   "name": "python3"
  },
  "language_info": {
   "codemirror_mode": {
    "name": "ipython",
    "version": 3
   },
   "file_extension": ".py",
   "mimetype": "text/x-python",
   "name": "python",
   "nbconvert_exporter": "python",
   "pygments_lexer": "ipython3",
   "version": "3.9.7"
  }
 },
 "nbformat": 4,
 "nbformat_minor": 5
}
