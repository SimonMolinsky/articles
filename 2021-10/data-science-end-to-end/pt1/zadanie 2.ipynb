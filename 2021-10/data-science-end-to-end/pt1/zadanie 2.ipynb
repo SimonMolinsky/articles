{
 "cells": [
  {
   "cell_type": "code",
   "execution_count": 1,
   "id": "02ad2a15",
   "metadata": {},
   "outputs": [],
   "source": [
    "import requests\n",
    "\n",
    "API_URL = 'http://api.gios.gov.pl/pjp-api/rest/aqindex/getIndex/52'\n",
    "data = requests.get(API_URL)"
   ]
  },
  {
   "cell_type": "code",
   "execution_count": 4,
   "id": "1b68181c",
   "metadata": {},
   "outputs": [
    {
     "data": {
      "text/plain": [
       "{'id': 52,\n",
       " 'stCalcDate': '2021-10-06 11:20:14',\n",
       " 'stIndexLevel': {'id': 0, 'indexLevelName': 'Bardzo dobry'},\n",
       " 'stSourceDataDate': '2021-10-06 10:00:00',\n",
       " 'so2CalcDate': '2021-10-06 11:20:14',\n",
       " 'so2IndexLevel': {'id': 0, 'indexLevelName': 'Bardzo dobry'},\n",
       " 'so2SourceDataDate': '2021-10-06 10:00:00',\n",
       " 'no2CalcDate': '2021-10-06 11:20:14',\n",
       " 'no2IndexLevel': {'id': 0, 'indexLevelName': 'Bardzo dobry'},\n",
       " 'no2SourceDataDate': '2021-10-06 10:00:00',\n",
       " 'pm10CalcDate': '2021-10-06 11:20:14',\n",
       " 'pm10IndexLevel': {'id': 0, 'indexLevelName': 'Bardzo dobry'},\n",
       " 'pm10SourceDataDate': '2021-10-06 09:00:00',\n",
       " 'pm25CalcDate': '2021-10-06 11:20:14',\n",
       " 'pm25IndexLevel': None,\n",
       " 'pm25SourceDataDate': None,\n",
       " 'o3CalcDate': '2021-10-06 11:20:14',\n",
       " 'o3IndexLevel': {'id': 0, 'indexLevelName': 'Bardzo dobry'},\n",
       " 'o3SourceDataDate': '2021-10-06 10:00:00',\n",
       " 'stIndexStatus': True,\n",
       " 'stIndexCrParam': 'PYL'}"
      ]
     },
     "execution_count": 4,
     "metadata": {},
     "output_type": "execute_result"
    }
   ],
   "source": [
    "data.json()"
   ]
  }
 ],
 "metadata": {
  "kernelspec": {
   "display_name": "Python 3 (ipykernel)",
   "language": "python",
   "name": "python3"
  },
  "language_info": {
   "codemirror_mode": {
    "name": "ipython",
    "version": 3
   },
   "file_extension": ".py",
   "mimetype": "text/x-python",
   "name": "python",
   "nbconvert_exporter": "python",
   "pygments_lexer": "ipython3",
   "version": "3.9.7"
  }
 },
 "nbformat": 4,
 "nbformat_minor": 5
}
