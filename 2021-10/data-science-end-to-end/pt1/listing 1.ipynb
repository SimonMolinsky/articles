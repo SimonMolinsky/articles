{
 "cells": [
  {
   "cell_type": "code",
   "execution_count": 1,
   "id": "3f511037",
   "metadata": {},
   "outputs": [],
   "source": [
    "import pandas as pd"
   ]
  },
  {
   "cell_type": "code",
   "execution_count": 2,
   "id": "6638a596",
   "metadata": {},
   "outputs": [],
   "source": [
    "API_URL = 'http://api.gios.gov.pl/pjp-api/rest/aqindex/getIndex/52'"
   ]
  },
  {
   "cell_type": "code",
   "execution_count": 8,
   "id": "6082a1a7",
   "metadata": {},
   "outputs": [],
   "source": [
    "df = pd.read_json(API_URL, orient='index')"
   ]
  },
  {
   "cell_type": "code",
   "execution_count": 9,
   "id": "80abce34",
   "metadata": {},
   "outputs": [
    {
     "data": {
      "text/html": [
       "<div>\n",
       "<style scoped>\n",
       "    .dataframe tbody tr th:only-of-type {\n",
       "        vertical-align: middle;\n",
       "    }\n",
       "\n",
       "    .dataframe tbody tr th {\n",
       "        vertical-align: top;\n",
       "    }\n",
       "\n",
       "    .dataframe thead th {\n",
       "        text-align: right;\n",
       "    }\n",
       "</style>\n",
       "<table border=\"1\" class=\"dataframe\">\n",
       "  <thead>\n",
       "    <tr style=\"text-align: right;\">\n",
       "      <th></th>\n",
       "      <th>0</th>\n",
       "    </tr>\n",
       "  </thead>\n",
       "  <tbody>\n",
       "    <tr>\n",
       "      <th>id</th>\n",
       "      <td>52</td>\n",
       "    </tr>\n",
       "    <tr>\n",
       "      <th>stCalcDate</th>\n",
       "      <td>2021-10-06 11:20:14</td>\n",
       "    </tr>\n",
       "    <tr>\n",
       "      <th>stIndexLevel</th>\n",
       "      <td>{'id': 0, 'indexLevelName': 'Bardzo dobry'}</td>\n",
       "    </tr>\n",
       "    <tr>\n",
       "      <th>stSourceDataDate</th>\n",
       "      <td>2021-10-06 10:00:00</td>\n",
       "    </tr>\n",
       "    <tr>\n",
       "      <th>so2CalcDate</th>\n",
       "      <td>2021-10-06 11:20:14</td>\n",
       "    </tr>\n",
       "  </tbody>\n",
       "</table>\n",
       "</div>"
      ],
      "text/plain": [
       "                                                            0\n",
       "id                                                         52\n",
       "stCalcDate                                2021-10-06 11:20:14\n",
       "stIndexLevel      {'id': 0, 'indexLevelName': 'Bardzo dobry'}\n",
       "stSourceDataDate                          2021-10-06 10:00:00\n",
       "so2CalcDate                               2021-10-06 11:20:14"
      ]
     },
     "execution_count": 9,
     "metadata": {},
     "output_type": "execute_result"
    }
   ],
   "source": [
    "df.head()"
   ]
  },
  {
   "cell_type": "code",
   "execution_count": null,
   "id": "c6a52160",
   "metadata": {},
   "outputs": [],
   "source": []
  }
 ],
 "metadata": {
  "kernelspec": {
   "display_name": "Python 3 (ipykernel)",
   "language": "python",
   "name": "python3"
  },
  "language_info": {
   "codemirror_mode": {
    "name": "ipython",
    "version": 3
   },
   "file_extension": ".py",
   "mimetype": "text/x-python",
   "name": "python",
   "nbconvert_exporter": "python",
   "pygments_lexer": "ipython3",
   "version": "3.9.7"
  }
 },
 "nbformat": 4,
 "nbformat_minor": 5
}
